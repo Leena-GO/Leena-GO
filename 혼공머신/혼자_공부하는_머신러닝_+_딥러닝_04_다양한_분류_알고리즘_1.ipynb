{
  "nbformat": 4,
  "nbformat_minor": 0,
  "metadata": {
    "colab": {
      "name": "혼자_공부하는_머신러닝_+_딥러닝_04_다양한_분류_알고리즘-1.ipynb",
      "provenance": [],
      "collapsed_sections": [],
      "mount_file_id": "1_FUWB1CtCgMiqZfCqV4wCxzPAf0mn7Z-",
      "authorship_tag": "ABX9TyPivLQOlAdbLvmKuXqyDaws",
      "include_colab_link": true
    },
    "kernelspec": {
      "name": "python3",
      "display_name": "Python 3"
    },
    "language_info": {
      "name": "python"
    }
  },
  "cells": [
    {
      "cell_type": "markdown",
      "metadata": {
        "id": "view-in-github",
        "colab_type": "text"
      },
      "source": [
        "<a href=\"https://colab.research.google.com/github/Leena-GO/Leena-GO/blob/main/%ED%98%BC%EA%B3%B5%EB%A8%B8%EC%8B%A0/%ED%98%BC%EC%9E%90_%EA%B3%B5%EB%B6%80%ED%95%98%EB%8A%94_%EB%A8%B8%EC%8B%A0%EB%9F%AC%EB%8B%9D_%2B_%EB%94%A5%EB%9F%AC%EB%8B%9D_04_%EB%8B%A4%EC%96%91%ED%95%9C_%EB%B6%84%EB%A5%98_%EC%95%8C%EA%B3%A0%EB%A6%AC%EC%A6%98_1.ipynb\" target=\"_parent\"><img src=\"https://colab.research.google.com/assets/colab-badge.svg\" alt=\"Open In Colab\"/></a>"
      ]
    },
    {
      "cell_type": "markdown",
      "metadata": {
        "id": "mEKTOg6xLFia"
      },
      "source": [
        "# 04-1 로지스틱 회귀"
      ]
    },
    {
      "cell_type": "markdown",
      "metadata": {
        "id": "syNEa9jgLKcx"
      },
      "source": [
        "## 1. 럭키백의 확률"
      ]
    },
    {
      "cell_type": "code",
      "metadata": {
        "id": "owp2vnhBMPhC",
        "colab": {
          "base_uri": "https://localhost:8080/",
          "height": 197
        },
        "outputId": "6f0023c0-47ac-45e7-d40c-82874816c2ae"
      },
      "source": [
        "import pandas as pd\n",
        "\n",
        "fish = pd.read_csv('https://bit.ly/fish_csv')\n",
        "fish.head()"
      ],
      "execution_count": 1,
      "outputs": [
        {
          "output_type": "execute_result",
          "data": {
            "text/html": [
              "<div>\n",
              "<style scoped>\n",
              "    .dataframe tbody tr th:only-of-type {\n",
              "        vertical-align: middle;\n",
              "    }\n",
              "\n",
              "    .dataframe tbody tr th {\n",
              "        vertical-align: top;\n",
              "    }\n",
              "\n",
              "    .dataframe thead th {\n",
              "        text-align: right;\n",
              "    }\n",
              "</style>\n",
              "<table border=\"1\" class=\"dataframe\">\n",
              "  <thead>\n",
              "    <tr style=\"text-align: right;\">\n",
              "      <th></th>\n",
              "      <th>Species</th>\n",
              "      <th>Weight</th>\n",
              "      <th>Length</th>\n",
              "      <th>Diagonal</th>\n",
              "      <th>Height</th>\n",
              "      <th>Width</th>\n",
              "    </tr>\n",
              "  </thead>\n",
              "  <tbody>\n",
              "    <tr>\n",
              "      <th>0</th>\n",
              "      <td>Bream</td>\n",
              "      <td>242.0</td>\n",
              "      <td>25.4</td>\n",
              "      <td>30.0</td>\n",
              "      <td>11.5200</td>\n",
              "      <td>4.0200</td>\n",
              "    </tr>\n",
              "    <tr>\n",
              "      <th>1</th>\n",
              "      <td>Bream</td>\n",
              "      <td>290.0</td>\n",
              "      <td>26.3</td>\n",
              "      <td>31.2</td>\n",
              "      <td>12.4800</td>\n",
              "      <td>4.3056</td>\n",
              "    </tr>\n",
              "    <tr>\n",
              "      <th>2</th>\n",
              "      <td>Bream</td>\n",
              "      <td>340.0</td>\n",
              "      <td>26.5</td>\n",
              "      <td>31.1</td>\n",
              "      <td>12.3778</td>\n",
              "      <td>4.6961</td>\n",
              "    </tr>\n",
              "    <tr>\n",
              "      <th>3</th>\n",
              "      <td>Bream</td>\n",
              "      <td>363.0</td>\n",
              "      <td>29.0</td>\n",
              "      <td>33.5</td>\n",
              "      <td>12.7300</td>\n",
              "      <td>4.4555</td>\n",
              "    </tr>\n",
              "    <tr>\n",
              "      <th>4</th>\n",
              "      <td>Bream</td>\n",
              "      <td>430.0</td>\n",
              "      <td>29.0</td>\n",
              "      <td>34.0</td>\n",
              "      <td>12.4440</td>\n",
              "      <td>5.1340</td>\n",
              "    </tr>\n",
              "  </tbody>\n",
              "</table>\n",
              "</div>"
            ],
            "text/plain": [
              "  Species  Weight  Length  Diagonal   Height   Width\n",
              "0   Bream   242.0    25.4      30.0  11.5200  4.0200\n",
              "1   Bream   290.0    26.3      31.2  12.4800  4.3056\n",
              "2   Bream   340.0    26.5      31.1  12.3778  4.6961\n",
              "3   Bream   363.0    29.0      33.5  12.7300  4.4555\n",
              "4   Bream   430.0    29.0      34.0  12.4440  5.1340"
            ]
          },
          "metadata": {
            "tags": []
          },
          "execution_count": 1
        }
      ]
    },
    {
      "cell_type": "code",
      "metadata": {
        "colab": {
          "base_uri": "https://localhost:8080/"
        },
        "id": "3sNgKzhuMPfD",
        "outputId": "f440a818-6395-4cd2-bd62-885f99ca8b1c"
      },
      "source": [
        "#생선 종류 유니크값 확인\n",
        "fish['Species'].unique()"
      ],
      "execution_count": 2,
      "outputs": [
        {
          "output_type": "execute_result",
          "data": {
            "text/plain": [
              "array(['Bream', 'Roach', 'Whitefish', 'Parkki', 'Perch', 'Pike', 'Smelt'],\n",
              "      dtype=object)"
            ]
          },
          "metadata": {
            "tags": []
          },
          "execution_count": 2
        }
      ]
    },
    {
      "cell_type": "code",
      "metadata": {
        "colab": {
          "base_uri": "https://localhost:8080/"
        },
        "id": "NyeysWNkLrOd",
        "outputId": "f5823314-32d5-4903-e37f-b4a236296456"
      },
      "source": [
        "fish.columns"
      ],
      "execution_count": 3,
      "outputs": [
        {
          "output_type": "execute_result",
          "data": {
            "text/plain": [
              "Index(['Species', 'Weight', 'Length', 'Diagonal', 'Height', 'Width'], dtype='object')"
            ]
          },
          "metadata": {
            "tags": []
          },
          "execution_count": 3
        }
      ]
    },
    {
      "cell_type": "code",
      "metadata": {
        "id": "IhTYZI6BMPc5",
        "colab": {
          "base_uri": "https://localhost:8080/"
        },
        "outputId": "c34d84f2-8286-4c08-b9e2-a0530d0ecefd"
      },
      "source": [
        "#Species 열을 타깃 데이터로 만들고, 나머지 열은 입력 데이터로 사용\n",
        "fish_input = fish[['Weight', 'Length', 'Diagonal', 'Height', 'Width']].to_numpy()\n",
        "fish_input[:5]"
      ],
      "execution_count": 4,
      "outputs": [
        {
          "output_type": "execute_result",
          "data": {
            "text/plain": [
              "array([[242.    ,  25.4   ,  30.    ,  11.52  ,   4.02  ],\n",
              "       [290.    ,  26.3   ,  31.2   ,  12.48  ,   4.3056],\n",
              "       [340.    ,  26.5   ,  31.1   ,  12.3778,   4.6961],\n",
              "       [363.    ,  29.    ,  33.5   ,  12.73  ,   4.4555],\n",
              "       [430.    ,  29.    ,  34.    ,  12.444 ,   5.134 ]])"
            ]
          },
          "metadata": {
            "tags": []
          },
          "execution_count": 4
        }
      ]
    },
    {
      "cell_type": "code",
      "metadata": {
        "id": "NJvSWshvOtf4"
      },
      "source": [
        "#타깃 데이터 만들기\n",
        "fish_target = fish['Species'].to_numpy()"
      ],
      "execution_count": 5,
      "outputs": []
    },
    {
      "cell_type": "code",
      "metadata": {
        "id": "ZY22OmSiMqy0"
      },
      "source": [
        "#train set과 test set 만들기\n",
        "from sklearn.model_selection import train_test_split\n",
        "\n",
        "train_input, test_input, train_target, test_target = train_test_split(fish_input, fish_target, random_state = 42)"
      ],
      "execution_count": 6,
      "outputs": []
    },
    {
      "cell_type": "code",
      "metadata": {
        "id": "lzl02np-MPau"
      },
      "source": [
        "# 훈련 세트와 테스트 세트를 표준화 전처리 해주기, 훈련 세트의 통계 값으로 테스트 세트 변환 필요\n",
        "\n",
        "from sklearn.preprocessing import StandardScaler\n",
        "\n",
        "ss = StandardScaler()\n",
        "ss.fit(train_input)\n",
        "train_scaled = ss.transform(train_input)\n",
        "test_scaled = ss.transform(test_input)"
      ],
      "execution_count": 7,
      "outputs": []
    },
    {
      "cell_type": "markdown",
      "metadata": {
        "id": "KoZ6Zx0DOJhL"
      },
      "source": [
        "- 필요 데이터가 모두 정리되었으니,  k-최근접 이웃 분류기로 테스트 세트에 들어있는 확률을 예측해본다."
      ]
    },
    {
      "cell_type": "code",
      "metadata": {
        "id": "aTeXi93jMPYc",
        "colab": {
          "base_uri": "https://localhost:8080/"
        },
        "outputId": "9ea98583-5722-46b8-ed2f-fdef4f8d3b72"
      },
      "source": [
        "from sklearn.neighbors import KNeighborsClassifier\n",
        "\n",
        "kn = KNeighborsClassifier(n_neighbors = 3) #기본값은 5\n",
        "kn.fit(train_scaled, train_target) #train data로 한번 학습시키기\n",
        "print(kn.score(train_scaled, train_target))\n",
        "print(kn.score(test_scaled, test_target))"
      ],
      "execution_count": 10,
      "outputs": [
        {
          "output_type": "stream",
          "text": [
            "0.8907563025210085\n",
            "0.85\n"
          ],
          "name": "stdout"
        }
      ]
    },
    {
      "cell_type": "markdown",
      "metadata": {
        "id": "gb9U0qRb60DQ"
      },
      "source": [
        "- 앞서 보았던 fish['Species']에는 7가지 종류의 생선이 있었는데, 훈련 세트와 테스트 세트에도 7개의 생선 종류가 들어가 있다.\n",
        "- 이렇게 타깃 데이터에 2개 이상의 클래스가 포함된 문제를 **다중 분류**(Multiclass classification)이라고 한다.\n",
        "\n",
        "- 2장에서 만들었던 이진 분류는, 양성 클래스와 음성 클래스를 1과 0으로 구성해야 했는데, 사이킷런은 문자열로 된 타깃값을 그대로 사용할 수 있다.\n",
        "  - 주의: 타깃값을 그대로 사이킷런 모델에 전달하면, 순서가 자동으로 알파벳 순이 된다.\n",
        "  - KNeighborsClassifier에 정렬된 타깃값은 **classes_** 속성에 있다."
      ]
    },
    {
      "cell_type": "code",
      "metadata": {
        "id": "YaCRdPEWMPWB",
        "colab": {
          "base_uri": "https://localhost:8080/"
        },
        "outputId": "873ab2d6-b1e4-4bfd-f91c-396e529f45dd"
      },
      "source": [
        "kn.classes_"
      ],
      "execution_count": 11,
      "outputs": [
        {
          "output_type": "execute_result",
          "data": {
            "text/plain": [
              "array(['Bream', 'Parkki', 'Perch', 'Pike', 'Roach', 'Smelt', 'Whitefish'],\n",
              "      dtype=object)"
            ]
          },
          "metadata": {
            "tags": []
          },
          "execution_count": 11
        }
      ]
    },
    {
      "cell_type": "code",
      "metadata": {
        "id": "rSmAqxLDMPTL",
        "colab": {
          "base_uri": "https://localhost:8080/"
        },
        "outputId": "8013c22b-20bf-40f7-d44d-1ab5450570a1"
      },
      "source": [
        "#predict() 메서드는 타깃값으로 예측을 출력한다\n",
        "kn.predict(test_scaled[:5]) #테스트 세트에 있는 처음 5개 샘플의 타깃값 예측"
      ],
      "execution_count": 12,
      "outputs": [
        {
          "output_type": "execute_result",
          "data": {
            "text/plain": [
              "array(['Perch', 'Smelt', 'Pike', 'Perch', 'Perch'], dtype=object)"
            ]
          },
          "metadata": {
            "tags": []
          },
          "execution_count": 12
        }
      ]
    },
    {
      "cell_type": "markdown",
      "metadata": {
        "id": "XHPVoLmWFXPM"
      },
      "source": [
        "- 사이킷런의 분류 모델은 **predict_proba()** 메서드로 클래스별 확률값을 반환한다.\n",
        "- numpy round()함수는 기본으로 소수점 첫째 자리에서 반올림을 하는데, *decimals* 매개변수로 유지할 소수점 아래 자릿수를 지정할 수 있다."
      ]
    },
    {
      "cell_type": "code",
      "metadata": {
        "id": "G1vpvY0fMPQ5",
        "colab": {
          "base_uri": "https://localhost:8080/"
        },
        "outputId": "e457762b-98df-41df-8b76-8e66fb29b204"
      },
      "source": [
        "import numpy as np\n",
        "\n",
        "proba = kn.predict_proba(test_scaled[:5])\n",
        "np.round(proba, decimals = 4)"
      ],
      "execution_count": 13,
      "outputs": [
        {
          "output_type": "execute_result",
          "data": {
            "text/plain": [
              "array([[0.    , 0.    , 1.    , 0.    , 0.    , 0.    , 0.    ],\n",
              "       [0.    , 0.    , 0.    , 0.    , 0.    , 1.    , 0.    ],\n",
              "       [0.    , 0.    , 0.    , 1.    , 0.    , 0.    , 0.    ],\n",
              "       [0.    , 0.    , 0.6667, 0.    , 0.3333, 0.    , 0.    ],\n",
              "       [0.    , 0.    , 0.6667, 0.    , 0.3333, 0.    , 0.    ]])"
            ]
          },
          "metadata": {
            "tags": []
          },
          "execution_count": 13
        }
      ]
    },
    {
      "cell_type": "markdown",
      "metadata": {
        "id": "5wLT7-pbF9Vj"
      },
      "source": [
        "- *predict_proba()* 메서드의 출력 순서는 *classes_* 속성과 같다. \n",
        "  - 첫 번째 열이 *Bream*, 두 번째 열이 *Parkki*에 대한 확률\n",
        "\n",
        "\n",
        "\n",
        "---\n",
        "\n",
        "- 이 모델이 계산한 확률이 가장 가까운 이웃의 비율이 맞는지 확인해보자."
      ]
    },
    {
      "cell_type": "code",
      "metadata": {
        "colab": {
          "base_uri": "https://localhost:8080/"
        },
        "id": "fCW9CmoKF2jX",
        "outputId": "ebf50f4e-f0ef-484f-b1ac-eeefbde63f23"
      },
      "source": [
        "distance, indexes = kn.kneighbors(test_scaled[3:4])\n",
        "train_target[indexes]"
      ],
      "execution_count": 15,
      "outputs": [
        {
          "output_type": "execute_result",
          "data": {
            "text/plain": [
              "array([['Roach', 'Perch', 'Perch']], dtype=object)"
            ]
          },
          "metadata": {
            "tags": []
          },
          "execution_count": 15
        }
      ]
    },
    {
      "cell_type": "code",
      "metadata": {
        "id": "WF0XkysAGaoY"
      },
      "source": [
        ""
      ],
      "execution_count": null,
      "outputs": []
    }
  ]
}